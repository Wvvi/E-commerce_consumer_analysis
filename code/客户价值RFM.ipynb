{
 "cells": [
  {
   "cell_type": "markdown",
   "metadata": {},
   "source": [
    "# 客户价值分析"
   ]
  },
  {
   "cell_type": "markdown",
   "metadata": {},
   "source": [
    "要实现精细化运营，就需要对用户进行分层，筛选出各层次的用户，这样运营才能针对性的制作策略去运营。我今天就来说下用户分层经典的模型**RFM**模型与**聚类分析**模型"
   ]
  },
  {
   "cell_type": "markdown",
   "metadata": {},
   "source": [
    "## 一、什么是RFM模型"
   ]
  },
  {
   "cell_type": "markdown",
   "metadata": {},
   "source": [
    "RFM是3个指标的缩写，最近一次消费时间间隔（Recency），消费频率（Frequency），消费金额（Monetary）。而RFM模型就是通过这三项指标，来描述客户的价值状况，从而得到分群的客户。其中"
   ]
  },
  {
   "cell_type": "markdown",
   "metadata": {},
   "source": [
    "* R是指用户的最近一次消费时间距现在有多长时间了，这个指标反映用户流失与复购（粘性）。\n",
    "\n",
    "* F是指用户在指定观察的周期内消费了几次。这个指标反映了用户的消费活跃度（忠诚度）。\n",
    "\n",
    "* M是指用户在指定的观察周期内在平台花了多少钱，这个指标反映用户对公司贡献的价值（营收）。"
   ]
  },
  {
   "cell_type": "markdown",
   "metadata": {},
   "source": [
    "## 二、什么时候用"
   ]
  },
  {
   "cell_type": "markdown",
   "metadata": {},
   "source": [
    "任何模型最终都是腰围业务服务的，并不任何时候、任何数据都可以套用这个模型最客户分群的。用RFM模型时需要考虑下面几个因素"
   ]
  },
  {
   "cell_type": "markdown",
   "metadata": {},
   "source": [
    "* 需要客户有一定的消费频次，像房子、耐用品、家私这类，客户不会隔三差五去消费这些东西，所以这类的消费数据要做客户价值分析的话，RFM不是一个好的选择\n",
    "\n",
    "* 需要客户有消费金额，对企业产生价值\n",
    "\n",
    "* 需要记录有用户ID，这样RFM分层完后才能对应上\n",
    "\n",
    "* RFM 更使用于传统企业里的运营商、银行、航空，以及互联网消费行业"
   ]
  },
  {
   "cell_type": "markdown",
   "metadata": {},
   "source": [
    "## 三、怎么用"
   ]
  },
  {
   "cell_type": "markdown",
   "metadata": {},
   "source": [
    "下面我就接着上一篇文章中京东消费者数据，用python来实现RFM模型，由于数据集中缺少购买金额这个数据，所以这个维度我就先忽略不看，重要的还是思路"
   ]
  },
  {
   "cell_type": "code",
   "execution_count": 71,
   "metadata": {},
   "outputs": [],
   "source": [
    "import pandas as pd\n",
    "import matplotlib.pyplot as plt\n",
    "import seaborn as sns\n",
    "%matplotlib inline"
   ]
  },
  {
   "cell_type": "code",
   "execution_count": 182,
   "metadata": {},
   "outputs": [],
   "source": [
    "jd_consumer=pd.read_excel('./京东消费者分析数据.xlsx',sheet_name='JD_Fnl')"
   ]
  },
  {
   "cell_type": "code",
   "execution_count": 183,
   "metadata": {},
   "outputs": [
    {
     "data": {
      "text/html": [
       "<div>\n",
       "<style scoped>\n",
       "    .dataframe tbody tr th:only-of-type {\n",
       "        vertical-align: middle;\n",
       "    }\n",
       "\n",
       "    .dataframe tbody tr th {\n",
       "        vertical-align: top;\n",
       "    }\n",
       "\n",
       "    .dataframe thead th {\n",
       "        text-align: right;\n",
       "    }\n",
       "</style>\n",
       "<table border=\"1\" class=\"dataframe\">\n",
       "  <thead>\n",
       "    <tr style=\"text-align: right;\">\n",
       "      <th></th>\n",
       "      <th>customer_id</th>\n",
       "      <th>product_id</th>\n",
       "      <th>action_date</th>\n",
       "      <th>action_id</th>\n",
       "      <th>type</th>\n",
       "      <th>age_range</th>\n",
       "      <th>gender</th>\n",
       "      <th>customer_register_date</th>\n",
       "      <th>customer_level</th>\n",
       "      <th>city_level</th>\n",
       "      <th>brand</th>\n",
       "      <th>shop_id</th>\n",
       "      <th>category</th>\n",
       "      <th>product_market_date</th>\n",
       "      <th>vender_id</th>\n",
       "      <th>fans_number</th>\n",
       "      <th>vip_number</th>\n",
       "      <th>shop_register_date</th>\n",
       "      <th>shop_category</th>\n",
       "      <th>shop_score</th>\n",
       "    </tr>\n",
       "  </thead>\n",
       "  <tbody>\n",
       "    <tr>\n",
       "      <th>0</th>\n",
       "      <td>976695</td>\n",
       "      <td>328360</td>\n",
       "      <td>2018-03-05 08:52:00</td>\n",
       "      <td>10633744</td>\n",
       "      <td>PageView</td>\n",
       "      <td>5.0</td>\n",
       "      <td>W</td>\n",
       "      <td>2017-06-17</td>\n",
       "      <td>6</td>\n",
       "      <td>3.0</td>\n",
       "      <td>LukFook</td>\n",
       "      <td>2959</td>\n",
       "      <td>Bracelet</td>\n",
       "      <td>2017-10-05</td>\n",
       "      <td>4322</td>\n",
       "      <td>1159</td>\n",
       "      <td>36596</td>\n",
       "      <td>2017-07-04</td>\n",
       "      <td>Jewellery Accessories</td>\n",
       "      <td>9.043610</td>\n",
       "    </tr>\n",
       "    <tr>\n",
       "      <th>1</th>\n",
       "      <td>395399</td>\n",
       "      <td>141632</td>\n",
       "      <td>2018-03-20 10:55:00</td>\n",
       "      <td>5472028</td>\n",
       "      <td>PageView</td>\n",
       "      <td>4.0</td>\n",
       "      <td>M</td>\n",
       "      <td>2018-01-21</td>\n",
       "      <td>6</td>\n",
       "      <td>5.0</td>\n",
       "      <td>illuma</td>\n",
       "      <td>4203</td>\n",
       "      <td>Milk Power</td>\n",
       "      <td>2015-06-12</td>\n",
       "      <td>3563</td>\n",
       "      <td>2411</td>\n",
       "      <td>65893</td>\n",
       "      <td>2013-08-08</td>\n",
       "      <td>Mother and Infant</td>\n",
       "      <td>9.537151</td>\n",
       "    </tr>\n",
       "    <tr>\n",
       "      <th>2</th>\n",
       "      <td>1068082</td>\n",
       "      <td>5924</td>\n",
       "      <td>2018-04-01 13:56:00</td>\n",
       "      <td>3853455</td>\n",
       "      <td>PageView</td>\n",
       "      <td>6.0</td>\n",
       "      <td>W</td>\n",
       "      <td>2012-08-13</td>\n",
       "      <td>1</td>\n",
       "      <td>4.0</td>\n",
       "      <td>Li-Ning</td>\n",
       "      <td>8002</td>\n",
       "      <td>Badminton</td>\n",
       "      <td>2013-06-14</td>\n",
       "      <td>1457</td>\n",
       "      <td>213610</td>\n",
       "      <td>357580</td>\n",
       "      <td>2013-05-23</td>\n",
       "      <td>Outdoor Sports</td>\n",
       "      <td>9.571139</td>\n",
       "    </tr>\n",
       "    <tr>\n",
       "      <th>3</th>\n",
       "      <td>1068082</td>\n",
       "      <td>10723</td>\n",
       "      <td>2018-04-01 13:45:00</td>\n",
       "      <td>3853455</td>\n",
       "      <td>PageView</td>\n",
       "      <td>6.0</td>\n",
       "      <td>W</td>\n",
       "      <td>2012-08-13</td>\n",
       "      <td>1</td>\n",
       "      <td>4.0</td>\n",
       "      <td>Li-Ning</td>\n",
       "      <td>8002</td>\n",
       "      <td>Badminton</td>\n",
       "      <td>2011-07-19</td>\n",
       "      <td>1457</td>\n",
       "      <td>213610</td>\n",
       "      <td>357580</td>\n",
       "      <td>2013-05-23</td>\n",
       "      <td>Outdoor Sports</td>\n",
       "      <td>9.571139</td>\n",
       "    </tr>\n",
       "    <tr>\n",
       "      <th>4</th>\n",
       "      <td>735392</td>\n",
       "      <td>4559</td>\n",
       "      <td>2018-02-06 20:25:00</td>\n",
       "      <td>9434940</td>\n",
       "      <td>PageView</td>\n",
       "      <td>6.0</td>\n",
       "      <td>M</td>\n",
       "      <td>2009-09-15</td>\n",
       "      <td>7</td>\n",
       "      <td>5.0</td>\n",
       "      <td>Other</td>\n",
       "      <td>6944</td>\n",
       "      <td>Cookie</td>\n",
       "      <td>2015-11-16</td>\n",
       "      <td>355</td>\n",
       "      <td>63969</td>\n",
       "      <td>85597</td>\n",
       "      <td>2014-10-31</td>\n",
       "      <td>Food</td>\n",
       "      <td>9.665680</td>\n",
       "    </tr>\n",
       "  </tbody>\n",
       "</table>\n",
       "</div>"
      ],
      "text/plain": [
       "   customer_id  product_id         action_date  action_id      type  \\\n",
       "0       976695      328360 2018-03-05 08:52:00   10633744  PageView   \n",
       "1       395399      141632 2018-03-20 10:55:00    5472028  PageView   \n",
       "2      1068082        5924 2018-04-01 13:56:00    3853455  PageView   \n",
       "3      1068082       10723 2018-04-01 13:45:00    3853455  PageView   \n",
       "4       735392        4559 2018-02-06 20:25:00    9434940  PageView   \n",
       "\n",
       "   age_range gender customer_register_date  customer_level  city_level  \\\n",
       "0        5.0      W             2017-06-17               6         3.0   \n",
       "1        4.0      M             2018-01-21               6         5.0   \n",
       "2        6.0      W             2012-08-13               1         4.0   \n",
       "3        6.0      W             2012-08-13               1         4.0   \n",
       "4        6.0      M             2009-09-15               7         5.0   \n",
       "\n",
       "     brand  shop_id    category product_market_date  vender_id  fans_number  \\\n",
       "0  LukFook     2959    Bracelet          2017-10-05       4322         1159   \n",
       "1   illuma     4203  Milk Power          2015-06-12       3563         2411   \n",
       "2  Li-Ning     8002   Badminton          2013-06-14       1457       213610   \n",
       "3  Li-Ning     8002   Badminton          2011-07-19       1457       213610   \n",
       "4    Other     6944      Cookie          2015-11-16        355        63969   \n",
       "\n",
       "   vip_number shop_register_date          shop_category  shop_score  \n",
       "0       36596         2017-07-04  Jewellery Accessories    9.043610  \n",
       "1       65893         2013-08-08      Mother and Infant    9.537151  \n",
       "2      357580         2013-05-23         Outdoor Sports    9.571139  \n",
       "3      357580         2013-05-23         Outdoor Sports    9.571139  \n",
       "4       85597         2014-10-31                   Food    9.665680  "
      ]
     },
     "execution_count": 183,
     "metadata": {},
     "output_type": "execute_result"
    }
   ],
   "source": [
    "jd_consumer.head()"
   ]
  },
  {
   "cell_type": "markdown",
   "metadata": {},
   "source": [
    "* 观察购买次数频率的分布"
   ]
  },
  {
   "cell_type": "code",
   "execution_count": 184,
   "metadata": {},
   "outputs": [
    {
     "data": {
      "text/plain": [
       "customer_id\n",
       "653834     3\n",
       "813206     2\n",
       "228162     2\n",
       "507444     2\n",
       "1496979    2\n",
       "          ..\n",
       "1087899    1\n",
       "1087819    1\n",
       "1087596    1\n",
       "1087560    1\n",
       "64         1\n",
       "Length: 10652, dtype: int64"
      ]
     },
     "execution_count": 184,
     "metadata": {},
     "output_type": "execute_result"
    }
   ],
   "source": [
    "jd_consumer[jd_consumer['type']=='Order'].groupby('customer_id').size().sort_values(ascending=False)"
   ]
  },
  {
   "cell_type": "markdown",
   "metadata": {},
   "source": [
    "只选择消费食品的用户用来分析，因为用户在一定时间内购买食品的频次比其他电子产品、服饰等更活跃"
   ]
  },
  {
   "cell_type": "markdown",
   "metadata": {},
   "source": [
    "* 对数据进行整合，以2018年04月15号到2018年3月1号为观察的时间区间"
   ]
  },
  {
   "cell_type": "code",
   "execution_count": 185,
   "metadata": {},
   "outputs": [
    {
     "data": {
      "text/html": [
       "<div>\n",
       "<style scoped>\n",
       "    .dataframe tbody tr th:only-of-type {\n",
       "        vertical-align: middle;\n",
       "    }\n",
       "\n",
       "    .dataframe tbody tr th {\n",
       "        vertical-align: top;\n",
       "    }\n",
       "\n",
       "    .dataframe thead th {\n",
       "        text-align: right;\n",
       "    }\n",
       "</style>\n",
       "<table border=\"1\" class=\"dataframe\">\n",
       "  <thead>\n",
       "    <tr style=\"text-align: right;\">\n",
       "      <th></th>\n",
       "      <th>customer_id</th>\n",
       "      <th>action_date</th>\n",
       "      <th>type</th>\n",
       "    </tr>\n",
       "  </thead>\n",
       "  <tbody>\n",
       "    <tr>\n",
       "      <th>13080</th>\n",
       "      <td>659379</td>\n",
       "      <td>2018-02-01</td>\n",
       "      <td>Order</td>\n",
       "    </tr>\n",
       "    <tr>\n",
       "      <th>13089</th>\n",
       "      <td>292645</td>\n",
       "      <td>2018-02-01</td>\n",
       "      <td>Order</td>\n",
       "    </tr>\n",
       "    <tr>\n",
       "      <th>13090</th>\n",
       "      <td>28082</td>\n",
       "      <td>2018-02-01</td>\n",
       "      <td>Order</td>\n",
       "    </tr>\n",
       "    <tr>\n",
       "      <th>13092</th>\n",
       "      <td>597722</td>\n",
       "      <td>2018-02-01</td>\n",
       "      <td>Order</td>\n",
       "    </tr>\n",
       "    <tr>\n",
       "      <th>13095</th>\n",
       "      <td>728665</td>\n",
       "      <td>2018-02-01</td>\n",
       "      <td>Order</td>\n",
       "    </tr>\n",
       "  </tbody>\n",
       "</table>\n",
       "</div>"
      ],
      "text/plain": [
       "       customer_id action_date   type\n",
       "13080       659379  2018-02-01  Order\n",
       "13089       292645  2018-02-01  Order\n",
       "13090        28082  2018-02-01  Order\n",
       "13092       597722  2018-02-01  Order\n",
       "13095       728665  2018-02-01  Order"
      ]
     },
     "execution_count": 185,
     "metadata": {},
     "output_type": "execute_result"
    }
   ],
   "source": [
    "jd_consumer_food.head()"
   ]
  },
  {
   "cell_type": "code",
   "execution_count": 186,
   "metadata": {},
   "outputs": [],
   "source": [
    "#对列重命名\n",
    "jd_consumer.rename(columns={'action_date':'action_time'},inplace=True)\n",
    "#提取时间中的小时时段\n",
    "jd_consumer['action_date']=jd_consumer['action_time'].apply(lambda x:pd.datetime.strftime(x,'%Y-%m-%d'))\n",
    "jd_consumer['action_month']=jd_consumer['action_time'].apply(lambda x:pd.datetime.strftime(x,'%Y-%m'))\n",
    "jd_consumer_food=jd_consumer[(jd_consumer['type']=='Order') & \n",
    "                             (jd_consumer['shop_category']=='Food') & \n",
    "                            (jd_consumer['action_month']=='2018-03')][['customer_id',\n",
    "                                                                      'action_date','type']].drop_duplicates()"
   ]
  },
  {
   "cell_type": "markdown",
   "metadata": {},
   "source": [
    "* R"
   ]
  },
  {
   "cell_type": "code",
   "execution_count": 187,
   "metadata": {},
   "outputs": [],
   "source": [
    "idx=jd_consumer_food.groupby('customer_id').size().sort_values(ascending=False)[:1000].index"
   ]
  },
  {
   "cell_type": "code",
   "execution_count": 188,
   "metadata": {},
   "outputs": [],
   "source": [
    "jd_rfm=jd_consumer_food[jd_consumer_food['customer_id'].isin(idx)].groupby('customer_id').agg({'action_date':'max','type':'count'})"
   ]
  },
  {
   "cell_type": "code",
   "execution_count": 189,
   "metadata": {},
   "outputs": [],
   "source": [
    "jd_rfm['R']=(pd.to_datetime('2018-04-15')-pd.to_datetime(jd_rfm['action_date'])).dt.days\n",
    "jd_rfm.rename(columns={'type':'F'},inplace=True)"
   ]
  },
  {
   "cell_type": "code",
   "execution_count": 190,
   "metadata": {},
   "outputs": [],
   "source": [
    "jd_rfm=jd_rfm.drop('action_date',axis=1)"
   ]
  },
  {
   "cell_type": "code",
   "execution_count": 191,
   "metadata": {},
   "outputs": [
    {
     "data": {
      "text/html": [
       "<div>\n",
       "<style scoped>\n",
       "    .dataframe tbody tr th:only-of-type {\n",
       "        vertical-align: middle;\n",
       "    }\n",
       "\n",
       "    .dataframe tbody tr th {\n",
       "        vertical-align: top;\n",
       "    }\n",
       "\n",
       "    .dataframe thead th {\n",
       "        text-align: right;\n",
       "    }\n",
       "</style>\n",
       "<table border=\"1\" class=\"dataframe\">\n",
       "  <thead>\n",
       "    <tr style=\"text-align: right;\">\n",
       "      <th></th>\n",
       "      <th>customer_id</th>\n",
       "      <th>action_date</th>\n",
       "      <th>type</th>\n",
       "    </tr>\n",
       "  </thead>\n",
       "  <tbody>\n",
       "    <tr>\n",
       "      <th>13512</th>\n",
       "      <td>1086601</td>\n",
       "      <td>2018-03-01</td>\n",
       "      <td>Order</td>\n",
       "    </tr>\n",
       "    <tr>\n",
       "      <th>13514</th>\n",
       "      <td>182726</td>\n",
       "      <td>2018-03-01</td>\n",
       "      <td>Order</td>\n",
       "    </tr>\n",
       "    <tr>\n",
       "      <th>13518</th>\n",
       "      <td>1393060</td>\n",
       "      <td>2018-03-01</td>\n",
       "      <td>Order</td>\n",
       "    </tr>\n",
       "    <tr>\n",
       "      <th>13520</th>\n",
       "      <td>1458445</td>\n",
       "      <td>2018-03-01</td>\n",
       "      <td>Order</td>\n",
       "    </tr>\n",
       "    <tr>\n",
       "      <th>13527</th>\n",
       "      <td>980336</td>\n",
       "      <td>2018-03-01</td>\n",
       "      <td>Order</td>\n",
       "    </tr>\n",
       "  </tbody>\n",
       "</table>\n",
       "</div>"
      ],
      "text/plain": [
       "       customer_id action_date   type\n",
       "13512      1086601  2018-03-01  Order\n",
       "13514       182726  2018-03-01  Order\n",
       "13518      1393060  2018-03-01  Order\n",
       "13520      1458445  2018-03-01  Order\n",
       "13527       980336  2018-03-01  Order"
      ]
     },
     "execution_count": 191,
     "metadata": {},
     "output_type": "execute_result"
    }
   ],
   "source": [
    "jd_consumer_food.head()"
   ]
  },
  {
   "cell_type": "code",
   "execution_count": 198,
   "metadata": {},
   "outputs": [
    {
     "data": {
      "text/plain": [
       "(29.321, 1.004)"
      ]
     },
     "execution_count": 198,
     "metadata": {},
     "output_type": "execute_result"
    }
   ],
   "source": [
    "rmd = jd_rfm['R'].mean()\n",
    "fmd = jd_rfm['F'].mean()\n",
    "rmd,fmd"
   ]
  },
  {
   "cell_type": "code",
   "execution_count": 203,
   "metadata": {},
   "outputs": [],
   "source": [
    "def customer_type(frame): \n",
    "    customer_type = []\n",
    "    for i in range(len(frame)):\n",
    "        if frame.iloc[i,1]<=rmd and frame.iloc[i,0]>=fmd :\n",
    "            customer_type.append('重要价值用户')\n",
    "        elif  frame.iloc[i,1]>rmd and frame.iloc[i,0]>=fmd :\n",
    "            customer_type.append('重要唤回用户')\n",
    "        elif  frame.iloc[i,1]<=rmd and frame.iloc[i,0]<fmd :\n",
    "            customer_type.append('重要深耕用户')\n",
    "        elif  frame.iloc[i,1]>rmd and frame.iloc[i,0]<fmd :\n",
    "            customer_type.append('即将流失用户')\n",
    "    frame['classification'] = customer_type"
   ]
  },
  {
   "cell_type": "code",
   "execution_count": 206,
   "metadata": {},
   "outputs": [
    {
     "name": "stdout",
     "output_type": "stream",
     "text": [
      "不同类型的客户总数：\n",
      "--------------------\n"
     ]
    },
    {
     "data": {
      "text/html": [
       "<div>\n",
       "<style scoped>\n",
       "    .dataframe tbody tr th:only-of-type {\n",
       "        vertical-align: middle;\n",
       "    }\n",
       "\n",
       "    .dataframe tbody tr th {\n",
       "        vertical-align: top;\n",
       "    }\n",
       "\n",
       "    .dataframe thead th {\n",
       "        text-align: right;\n",
       "    }\n",
       "</style>\n",
       "<table border=\"1\" class=\"dataframe\">\n",
       "  <thead>\n",
       "    <tr style=\"text-align: right;\">\n",
       "      <th></th>\n",
       "      <th>classification</th>\n",
       "      <th>客户数</th>\n",
       "    </tr>\n",
       "  </thead>\n",
       "  <tbody>\n",
       "    <tr>\n",
       "      <th>0</th>\n",
       "      <td>即将流失用户</td>\n",
       "      <td>499</td>\n",
       "    </tr>\n",
       "    <tr>\n",
       "      <th>1</th>\n",
       "      <td>重要价值用户</td>\n",
       "      <td>3</td>\n",
       "    </tr>\n",
       "    <tr>\n",
       "      <th>2</th>\n",
       "      <td>重要唤回用户</td>\n",
       "      <td>1</td>\n",
       "    </tr>\n",
       "    <tr>\n",
       "      <th>3</th>\n",
       "      <td>重要深耕用户</td>\n",
       "      <td>497</td>\n",
       "    </tr>\n",
       "  </tbody>\n",
       "</table>\n",
       "</div>"
      ],
      "text/plain": [
       "  classification  客户数\n",
       "0         即将流失用户  499\n",
       "1         重要价值用户    3\n",
       "2         重要唤回用户    1\n",
       "3         重要深耕用户  497"
      ]
     },
     "execution_count": 206,
     "metadata": {},
     "output_type": "execute_result"
    }
   ],
   "source": [
    "customer_type(jd_rfm)\n",
    "\n",
    "print('不同类型的客户总数：')\n",
    "print('--------------------')\n",
    "jd_rfm.groupby(by='classification').size().reset_index(name='客户数')"
   ]
  },
  {
   "cell_type": "markdown",
   "metadata": {},
   "source": [
    "可以看出流失用户、重要深耕用户占了非常大的比重\n",
    "\n",
    "运营可以通过策划优惠活动、发优惠券等活动来促进重要深耕用户转化到重要价值用户\n",
    "\n",
    "对于即将流失可以进行推送激活，触达到流失用户，增加回流的概率\n"
   ]
  },
  {
   "cell_type": "markdown",
   "metadata": {},
   "source": [
    "## 四、用户分类完整表"
   ]
  },
  {
   "cell_type": "markdown",
   "metadata": {},
   "source": [
    "由于此数据缺失金额，所以没能进行一个完整的RFM分析，不过具体的思路上面已经阐释清楚了，以下附上一个完整的RFM用户分类表作为实战参考"
   ]
  },
  {
   "cell_type": "markdown",
   "metadata": {},
   "source": [
    "| 用户类型     | 最近一次消费时间间隔（Recency） | 消费频率（Frequency） | 消费金额（Monetary） | 运营手段                                       |\n",
    "| ------------ | ------------------------------- | --------------------- | -------------------- | ---------------------------------------------- |\n",
    "| 重要价值用户 | 高                              | 高                    | 高                   | 最优质用户，应提高满意度，增加留存             |\n",
    "| 重要唤回用户 | 低                              | 高                    | 高                   | 购买频率低，可通过活动等提高购买率             |\n",
    "| 重要深耕用户 | 高                              | 低                    | 高                   | 推送增加触达，以免流失                         |\n",
    "| 重要挽留用户 | 低                              | 低                    | 高                   | 潜在有价值的用户，了解原因，进行挽留           |\n",
    "| 潜力用户     | 高                              | 高                    | 低                   | 忠诚用户，但累计消费金额低，可引导进行消费升级 |\n",
    "| 新用户       | 低                              | 高                    | 低                   | 新用户，可利用低门槛优惠券等方式吸引           |\n",
    "| 一般维持用户 | 高                              | 低                    | 低                   | 需分析进行运营激活                             |\n",
    "| 流失用户     | 低                              | 低                    | 低                   | 相当于流失用户，推送重新激活                   |\n",
    "\n"
   ]
  },
  {
   "cell_type": "markdown",
   "metadata": {},
   "source": [
    "## 五、后续"
   ]
  },
  {
   "cell_type": "markdown",
   "metadata": {},
   "source": [
    "RFM可以根据用户的这三类数据进行分层，但实际中很多其它维度的数据，所以为了更好的实现精细化运营，需要更多的维度参与进来。"
   ]
  },
  {
   "cell_type": "code",
   "execution_count": null,
   "metadata": {},
   "outputs": [],
   "source": []
  }
 ],
 "metadata": {
  "kernelspec": {
   "display_name": "Python 3",
   "language": "python",
   "name": "python3"
  },
  "language_info": {
   "codemirror_mode": {
    "name": "ipython",
    "version": 3
   },
   "file_extension": ".py",
   "mimetype": "text/x-python",
   "name": "python",
   "nbconvert_exporter": "python",
   "pygments_lexer": "ipython3",
   "version": "3.8.1"
  }
 },
 "nbformat": 4,
 "nbformat_minor": 4
}
